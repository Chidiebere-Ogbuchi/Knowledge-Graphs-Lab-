{
 "cells": [
  {
   "cell_type": "code",
   "execution_count": 1,
   "id": "7f056805-df4e-45f2-985f-08ad9c1270cb",
   "metadata": {},
   "outputs": [],
   "source": [
    "## Import Libraries\n",
    "import pandas as pd"
   ]
  },
  {
   "cell_type": "code",
   "execution_count": 2,
   "id": "fe5d7dbb-a10e-41d0-9da0-f35f8cf025cd",
   "metadata": {},
   "outputs": [
    {
     "name": "stderr",
     "output_type": "stream",
     "text": [
      "C:\\Users\\chibo\\AppData\\Local\\Temp/ipykernel_10796/3868603241.py:10: DtypeWarning: Columns (2,4,5,6,7,8,9,10,11,14,18,19,20,21,22,23,24,25,26,28,30,31,33) have mixed types. Specify dtype option on import or set low_memory=False.\n",
      "  articles = pd.read_csv(url+'output_article.csv', header=0, sep=';');\n"
     ]
    }
   ],
   "source": [
    "## Read CSV\n",
    "\n",
    "# url = 'c:/Users/lauis/Downloads/SDM-lab03/preprocess_data/basicCSV/'\n",
    "url = \"C:/Users/chibo/OneDrive/Desktop/Neo4jPython/DXML/\"\n",
    "\n",
    "# obtain path to generated DBLP data\n",
    "# <!--Change URL to path where output_article is unzipped--!>\n",
    "\n",
    "## Articles in dataset\n",
    "articles = pd.read_csv(url+'output_article.csv', header=0, sep=';');"
   ]
  },
  {
   "cell_type": "code",
   "execution_count": 4,
   "id": "939b6e92-2722-47dc-9f41-ab8a8bad9726",
   "metadata": {},
   "outputs": [],
   "source": [
    "# Slicing articles dude to large size\n",
    "art_sel = articles[:10000]"
   ]
  },
  {
   "cell_type": "code",
   "execution_count": 13,
   "id": "62a9ef67-f5ca-4457-8d6e-0b48ea38f86d",
   "metadata": {},
   "outputs": [],
   "source": [
    "# Saving to New CSV\n",
    "art_sel.to_csv(path_or_buf='./datafinal/output_article.csv', index=False, sep=';')"
   ]
  }
 ],
 "metadata": {
  "kernelspec": {
   "display_name": "Python 3 (ipykernel)",
   "language": "python",
   "name": "python3"
  },
  "language_info": {
   "codemirror_mode": {
    "name": "ipython",
    "version": 3
   },
   "file_extension": ".py",
   "mimetype": "text/x-python",
   "name": "python",
   "nbconvert_exporter": "python",
   "pygments_lexer": "ipython3",
   "version": "3.9.7"
  }
 },
 "nbformat": 4,
 "nbformat_minor": 5
}
