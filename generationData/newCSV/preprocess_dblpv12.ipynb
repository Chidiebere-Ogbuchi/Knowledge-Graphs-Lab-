{
 "cells": [
  {
   "cell_type": "code",
   "execution_count": 1,
   "id": "9a15b938",
   "metadata": {},
   "outputs": [],
   "source": [
    "from faker import Faker\n",
    "import numpy as np \n",
    "import pandas as pd\n",
    "import random\n",
    "import csv\n",
    "import lorem"
   ]
  },
  {
   "cell_type": "code",
   "execution_count": 2,
   "id": "5dc6b98f",
   "metadata": {},
   "outputs": [
    {
     "name": "stderr",
     "output_type": "stream",
     "text": [
      "C:\\Users\\lauis\\AppData\\Local\\Temp\\ipykernel_25912\\3117579325.py:8: DtypeWarning: Columns (2,4,5,6,7,8,9,10,11,14,18,19,20,21,22,23,24,25,26,30,31,33) have mixed types. Specify dtype option on import or set low_memory=False.\n",
      "  articles = pd.read_csv(url+'output_article.csv', header=0, names=article_header, sep=';');\n"
     ]
    }
   ],
   "source": [
    "url = 'c:/Users/lauis/Downloads/SDM-lab03/generationData/newCSV/basicCSV/'\n",
    "# Read all data from articles \n",
    "## Article headers\n",
    "with open(url+'output_article_header.csv') as f:\n",
    "    article_header = f.readline().split(';')\n",
    "\n",
    "## Articles in dataset\n",
    "articles = pd.read_csv(url+'output_article.csv', header=0, names=article_header, sep=';');"
   ]
  },
  {
   "cell_type": "code",
   "execution_count": 3,
   "id": "9021e481",
   "metadata": {},
   "outputs": [],
   "source": [
    "# Selecting only 5000 articles\n",
    "art_sel = articles[:5000]"
   ]
  },
  {
   "cell_type": "code",
   "execution_count": 4,
   "id": "704da96c",
   "metadata": {},
   "outputs": [
    {
     "name": "stderr",
     "output_type": "stream",
     "text": [
      "C:\\Users\\lauis\\AppData\\Local\\Temp\\ipykernel_25912\\276672733.py:1: SettingWithCopyWarning: \n",
      "A value is trying to be set on a copy of a slice from a DataFrame.\n",
      "Try using .loc[row_indexer,col_indexer] = value instead\n",
      "\n",
      "See the caveats in the documentation: https://pandas.pydata.org/pandas-docs/stable/user_guide/indexing.html#returning-a-view-versus-a-copy\n",
      "  art_sel['sup:string[]'] = np.random.choice(['J', 'C'], size=len(art_sel), p=[0.5, 0.5])\n"
     ]
    }
   ],
   "source": [
    "art_sel['sup:string[]'] = np.random.choice(['J', 'C'], size=len(art_sel), p=[0.5, 0.5])\n",
    "\n",
    "# Identify categorical variables, 'publisher:string'\n",
    "categorical_vars = ['author:string[]', 'article:ID']\n",
    "# Remove rows with missing values in categorical variables\n",
    "art_sel = art_sel.dropna(subset=categorical_vars)"
   ]
  },
  {
   "cell_type": "code",
   "execution_count": 5,
   "id": "6cddbf19",
   "metadata": {},
   "outputs": [],
   "source": [
    "art_sel.rename(columns={'article:ID': \"DOI\",'author:string[]':\"AuthorName\",'author-aux:string': \"author-aux\",\n",
    "       'author-orcid:string[]': \"AuthorID\", 'booktitle:string': \"booktitle\", 'cdate:date': \"cdate\",\n",
    "       'cdrom:string': \"cdrom\", 'cite:string[]': \"cite\", 'cite-label:string[]': \"cite-label\",\n",
    "       'crossref:string': \"crossref\", 'editor:string[]': \"editor\", 'editor-orcid:string[]': \"editor-orcid\",\n",
    "       'ee:string[]': \"ee\", 'ee-type:string[]':\"ee-type\", 'i:string[]':\"i\", 'journal:string': \"journal\",\n",
    "       'key:string': \"key\", 'mdate:date': \"mdate\", 'month:string':\"month\", 'note:string[]':\"note\",\n",
    "       'note-label:string':\"note-label\", 'note-type:string[]':\"note-type\", 'number:string': \"number\",\n",
    "       'pages:string': \"pages\", 'publisher:string':\"publisher\", 'publnr:string':\"publnr\", 'publtype:string':\"publtype\",\n",
    "       'sub:string[]':\"sub\", 'sup:string[]':\"VenueType\", 'title:string':\"Title\", 'title-bibtex:string':\"title-bibtex\",\n",
    "       'tt:string[]':\"tt\", 'url:string[]':\"url\", 'volume:string':\"VolumeNr\", 'year:int': \"YearPublished\"\n",
    "      }, inplace=True)"
   ]
  },
  {
   "cell_type": "code",
   "execution_count": 6,
   "id": "834302b7",
   "metadata": {},
   "outputs": [],
   "source": [
    "\n",
    "ref_C = [\"FullPaper\", \"ShortPaper\", \"DemoPaper\", \"Poster\"]\n",
    "ref_O = [\"FullPaper\", \"ShortPaper\", \"DemoPaper\"]\n",
    "\n",
    "def assign_citation_type(x):\n",
    "    if x['VenueType'] != 'C':\n",
    "        return random.choice(ref_O)\n",
    "    else:\n",
    "        return random.choice(ref_C)\n",
    "\n",
    "art_sel['PaperType'] = art_sel.apply(assign_citation_type, axis=1)"
   ]
  },
  {
   "cell_type": "code",
   "execution_count": 7,
   "id": "08c57965",
   "metadata": {},
   "outputs": [],
   "source": [
    "## Generating abstracts using Lorem library\n",
    "abstracts = []\n",
    "\n",
    "for i in range(art_sel.shape[0]):\n",
    "    abstracts.append(lorem.paragraph())\n",
    "        \n",
    "art_sel['Abstract'] = abstracts"
   ]
  },
  {
   "cell_type": "code",
   "execution_count": 8,
   "id": "ac0e21df",
   "metadata": {},
   "outputs": [],
   "source": [
    "fake = Faker()\n",
    "\n",
    "def assign_editor_type(x):\n",
    "    if x['VenueType'] != 'C':\n",
    "        return fake.name()\n",
    "    else:\n",
    "        return None\n",
    "\n",
    "art_sel['EditorName'] = art_sel.apply(assign_editor_type, axis=1)\n",
    "art_sel['chair']=None\n",
    "\n",
    "def assign_chair_type(x):\n",
    "    if x['VenueType'] == 'C':\n",
    "        return fake.name()\n",
    "    else:\n",
    "        return None\n",
    "\n",
    "art_sel['ChairName'] = art_sel.apply(assign_chair_type, axis=1)"
   ]
  },
  {
   "cell_type": "code",
   "execution_count": 9,
   "id": "1a2e191d",
   "metadata": {},
   "outputs": [],
   "source": [
    "def assign_conference_name(x):\n",
    "    if x['VenueType'] == 'C':\n",
    "        return fake.name()\n",
    "    else:\n",
    "        return None\n",
    "ref_O = [\"W\", \"S\", \"E\", \"R\"]\n",
    "def assign_conference_type(x):\n",
    "    if x['VenueType'] != 'C':\n",
    "        return random.choice(ref_O)\n",
    "    else:\n",
    "        return None\n",
    "art_sel['ConfName'] = art_sel.apply(assign_conference_name, axis=1)\n",
    "art_sel['ConfType'] = art_sel.apply(assign_conference_type, axis=1)"
   ]
  },
  {
   "cell_type": "code",
   "execution_count": 10,
   "id": "7962bade",
   "metadata": {},
   "outputs": [],
   "source": [
    "def assign_journal_name(x):\n",
    "    if x['VenueType'] == 'J':\n",
    "        return fake.name()\n",
    "    else:\n",
    "        return None\n",
    "art_sel['JournalName'] = art_sel.apply(assign_journal_name, axis=1)"
   ]
  },
  {
   "cell_type": "code",
   "execution_count": 11,
   "id": "cdcb5fd4",
   "metadata": {},
   "outputs": [],
   "source": [
    "### Reviews\n",
    "## articles for reviews \n",
    "art_rev_selected = art_sel[['DOI', 'AuthorName', 'Title']]\n",
    "\n",
    "# Creating list of reviewers\n",
    "split_authors = art_rev_selected['AuthorName'].str.split(\"|\", expand=True)\n",
    "authors_list = []\n",
    "\n",
    "for i in split_authors[split_authors.columns[0]].values.tolist():\n",
    "    authors_list.append(i)\n",
    "        \n",
    "my_auth_list = list(set(list(authors_list)))\n",
    "# remove nan from first column\n",
    "my_auth_list = my_auth_list[1:]\n",
    "## Duplicate art_rev_selected thrice because we assume that every articles must have at least 3 reviews\n",
    "art_rev_selected = pd.concat([art_rev_selected]*2, ignore_index=True)"
   ]
  },
  {
   "cell_type": "code",
   "execution_count": 12,
   "id": "5e2ebd55",
   "metadata": {},
   "outputs": [],
   "source": [
    "## Assigning authors list to reviews\n",
    "random.seed(42)\n",
    "\n",
    "# define list of values to randomly assign\n",
    "my_list = my_auth_list\n",
    "# define function to randomly assign value from list to new column, avoiding strings\n",
    "def assign_value(row, my_list):\n",
    "    new_value = random.choice(my_list)\n",
    "    while any([str(new_value) in str(x) for x in row.values]):\n",
    "        new_value = random.choice(my_list)\n",
    "    return new_value\n",
    "\n",
    "# apply function to create new column with randomly assigned values\n",
    "art_sel['ReviewerName1'] = art_sel.apply(lambda row: assign_value(row, my_list), axis=1)\n",
    "art_sel['ReviewerName2'] = art_sel.apply(lambda row: assign_value(row, my_list), axis=1)\n",
    "\n",
    "# Create reviews using Lorem library\n",
    "def assign_review(row):\n",
    "    return lorem.sentence()\n",
    "        \n",
    "art_sel['ReviewText1'] = art_sel.apply(assign_review, axis=1)\n",
    "art_sel['ReviewText2'] = art_sel.apply(assign_review, axis=1)\n",
    "\n",
    "art_sel['ReviewDecision1'] = np.random.choice(['A','R'], size=len(art_sel), p=[0.80, 0.20])\n",
    "art_sel['ReviewDecision2'] = np.random.choice(['A','R'], size=len(art_sel), p=[0.80, 0.20])\n"
   ]
  },
  {
   "cell_type": "code",
   "execution_count": 13,
   "id": "65f52f81",
   "metadata": {},
   "outputs": [],
   "source": [
    "def assign_FinalDecision(x):\n",
    "    if x['ReviewDecision1'] == 'A' and x['ReviewDecision2'] == 'A' :\n",
    "        return 'A'\n",
    "    else:\n",
    "        return 'R'\n",
    "art_sel['FinalDecision'] = art_sel.apply(assign_FinalDecision, axis=1)"
   ]
  },
  {
   "cell_type": "code",
   "execution_count": 14,
   "id": "ef021618",
   "metadata": {},
   "outputs": [],
   "source": [
    "art_sel['YearPublished'] = art_sel['YearPublished'].astype(int)"
   ]
  },
  {
   "cell_type": "code",
   "execution_count": 20,
   "id": "4163accf",
   "metadata": {},
   "outputs": [],
   "source": [
    "# Adding more keywords from exercises so that least 90% is contained from this \n",
    "db_keywords = ['data management', 'indexing', 'data modeling', 'big data', 'data processing',\n",
    "            'data storage', 'data querying']\n",
    "# Generate KEYWORDS from titles/abstract of articles to add for the community\n",
    "def get_keywords(x):\n",
    "    split_title = str(x[\"Title\"]).split(\" \")\n",
    "    kwords = []\n",
    "    ## words with lenght 15\n",
    "    for i in split_title:\n",
    "        if len(str(i))==15:\n",
    "            kwords.append(i)\n",
    "    \n",
    "    # Combine list \n",
    "    combined_list = db_keywords + my_list\n",
    "    return '|'.join(combined_list)\n",
    "    \n",
    "art_sel['Keywords'] = art_sel.apply(get_keywords, axis=1)"
   ]
  },
  {
   "cell_type": "code",
   "execution_count": 21,
   "id": "8c85d18b",
   "metadata": {},
   "outputs": [],
   "source": [
    "# create new column with randomly assigned values area\n",
    "def assign_area(x):\n",
    "    return random.choice(db_keywords)\n",
    "\n",
    "art_sel['Area'] = art_sel.apply(assign_area, axis=1)"
   ]
  },
  {
   "cell_type": "code",
   "execution_count": 22,
   "id": "58e73f0c",
   "metadata": {},
   "outputs": [
    {
     "data": {
      "text/plain": [
       "Index(['DOI', 'AuthorName', 'author-aux', 'AuthorID', 'booktitle', 'cdate',\n",
       "       'cdrom', 'cite', 'cite-label', 'crossref', 'editor', 'editor-orcid',\n",
       "       'ee', 'ee-type', 'i', 'journal', 'key', 'mdate', 'month', 'note',\n",
       "       'note-label', 'note-type', 'number', 'pages', 'publisher', 'publnr',\n",
       "       'publtype', 'sub', 'VenueType', 'Title', 'title-bibtex', 'tt', 'url',\n",
       "       'VolumeNr', 'YearPublished', 'PaperType', 'Abstract', 'EditorName',\n",
       "       'chair', 'ChairName', 'ConfName', 'ConfType', 'JournalName',\n",
       "       'ReviewerName1', 'ReviewerName2', 'ReviewText1', 'ReviewText2',\n",
       "       'ReviewDecision1', 'ReviewDecision2', 'FinalDecision', 'Keywords',\n",
       "       'Area'],\n",
       "      dtype='object')"
      ]
     },
     "execution_count": 22,
     "metadata": {},
     "output_type": "execute_result"
    }
   ],
   "source": [
    "art_sel.columns"
   ]
  },
  {
   "cell_type": "code",
   "execution_count": 23,
   "id": "0782dbe2",
   "metadata": {},
   "outputs": [],
   "source": [
    "finalcolumns=['DOI', 'AuthorName', 'AuthorID', 'VenueType', 'Title',\n",
    " 'YearPublished', 'PaperType', 'Abstract', 'EditorName',\n",
    "        'ChairName', 'ConfName', 'ConfType', 'JournalName',\n",
    "       'ReviewerName1', 'ReviewerName2', 'ReviewText1', 'ReviewText2',\n",
    "       'ReviewDecision1', 'ReviewDecision2', 'FinalDecision', 'Keywords', 'VolumeNr']\n",
    "\n",
    "art_sel_final=art_sel[finalcolumns]\n",
    "\n",
    "# Save to CSV\n",
    "## Articles instances \n",
    "art_sel_final.to_csv(path_or_buf='datafinal/data_general.csv', index=False, header=True)"
   ]
  },
  {
   "cell_type": "code",
   "execution_count": null,
   "id": "8ee4d109",
   "metadata": {},
   "outputs": [],
   "source": []
  }
 ],
 "metadata": {
  "kernelspec": {
   "display_name": "Python 3",
   "language": "python",
   "name": "python3"
  },
  "language_info": {
   "codemirror_mode": {
    "name": "ipython",
    "version": 3
   },
   "file_extension": ".py",
   "mimetype": "text/x-python",
   "name": "python",
   "nbconvert_exporter": "python",
   "pygments_lexer": "ipython3",
   "version": "3.10.3"
  }
 },
 "nbformat": 4,
 "nbformat_minor": 5
}
