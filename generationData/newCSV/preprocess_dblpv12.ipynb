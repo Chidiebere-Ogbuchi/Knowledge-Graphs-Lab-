{
 "cells": [
  {
   "cell_type": "code",
   "execution_count": 1,
   "id": "abf4e0f1",
   "metadata": {},
   "outputs": [],
   "source": [
    "import csv\n",
    "import tqdm\n",
    "import ijson\n",
    "import pickle\n",
    "import pandas as pd"
   ]
  },
  {
   "cell_type": "code",
   "execution_count": 1,
   "id": "b770c983",
   "metadata": {},
   "outputs": [
    {
     "name": "stdout",
     "output_type": "stream",
     "text": [
      "Collecting Faker\n",
      "  Downloading Faker-18.6.2-py3-none-any.whl (1.7 MB)\n",
      "                                              0.0/1.7 MB ? eta -:--:--\n",
      "     ---                                      0.2/1.7 MB 4.5 MB/s eta 0:00:01\n",
      "     ------------                             0.5/1.7 MB 6.7 MB/s eta 0:00:01\n",
      "     -------------------------                1.1/1.7 MB 8.5 MB/s eta 0:00:01\n",
      "     --------------------------------------   1.6/1.7 MB 9.5 MB/s eta 0:00:01\n",
      "     ---------------------------------------- 1.7/1.7 MB 9.0 MB/s eta 0:00:00\n",
      "Requirement already satisfied: python-dateutil>=2.4 in c:\\users\\lauis\\appdata\\roaming\\python\\python310\\site-packages (from Faker) (2.8.2)\n",
      "Requirement already satisfied: six>=1.5 in c:\\users\\lauis\\appdata\\local\\programs\\python\\python310\\lib\\site-packages (from python-dateutil>=2.4->Faker) (1.16.0)\n",
      "Installing collected packages: Faker\n",
      "Successfully installed Faker-18.6.2\n"
     ]
    },
    {
     "name": "stderr",
     "output_type": "stream",
     "text": [
      "\n",
      "[notice] A new release of pip is available: 23.1 -> 23.1.2\n",
      "[notice] To update, run: python.exe -m pip install --upgrade pip\n"
     ]
    }
   ],
   "source": [
    "!pip install Faker"
   ]
  },
  {
   "cell_type": "code",
   "execution_count": 5,
   "id": "7421fd7a",
   "metadata": {},
   "outputs": [
    {
     "name": "stdout",
     "output_type": "stream",
     "text": [
      "Collecting pandas\n",
      "  Downloading pandas-2.0.1-cp310-cp310-win_amd64.whl (10.7 MB)\n",
      "                                              0.0/10.7 MB ? eta -:--:--\n",
      "                                              0.1/10.7 MB 4.3 MB/s eta 0:00:03\n",
      "     --                                       0.6/10.7 MB 7.4 MB/s eta 0:00:02\n",
      "     ----                                     1.2/10.7 MB 9.7 MB/s eta 0:00:01\n",
      "     -------                                  2.0/10.7 MB 11.6 MB/s eta 0:00:01\n",
      "     ----------                               2.8/10.7 MB 12.5 MB/s eta 0:00:01\n",
      "     -------------                            3.6/10.7 MB 13.6 MB/s eta 0:00:01\n",
      "     ---------------                          4.2/10.7 MB 13.6 MB/s eta 0:00:01\n",
      "     ------------------                       5.1/10.7 MB 14.1 MB/s eta 0:00:01\n",
      "     ---------------------                    5.8/10.7 MB 14.4 MB/s eta 0:00:01\n",
      "     ------------------------                 6.6/10.7 MB 14.5 MB/s eta 0:00:01\n",
      "     ---------------------------              7.4/10.7 MB 14.8 MB/s eta 0:00:01\n",
      "     ------------------------------           8.1/10.7 MB 14.8 MB/s eta 0:00:01\n",
      "     -------------------------------          8.4/10.7 MB 15.0 MB/s eta 0:00:01\n",
      "     -------------------------------          8.4/10.7 MB 15.0 MB/s eta 0:00:01\n",
      "     -------------------------------          8.4/10.7 MB 15.0 MB/s eta 0:00:01\n",
      "     -------------------------------          8.5/10.7 MB 11.5 MB/s eta 0:00:01\n",
      "     --------------------------------         8.6/10.7 MB 11.5 MB/s eta 0:00:01\n",
      "     --------------------------------         8.6/10.7 MB 11.5 MB/s eta 0:00:01\n",
      "     ---------------------------------        8.9/10.7 MB 10.2 MB/s eta 0:00:01\n",
      "     ------------------------------------     9.7/10.7 MB 10.9 MB/s eta 0:00:01\n",
      "     ------------------------------------    10.1/10.7 MB 10.4 MB/s eta 0:00:01\n",
      "     ------------------------------------    10.1/10.7 MB 10.4 MB/s eta 0:00:01\n",
      "     ------------------------------------    10.1/10.7 MB 10.4 MB/s eta 0:00:01\n",
      "     -------------------------------------    10.1/10.7 MB 9.4 MB/s eta 0:00:01\n",
      "     ---------------------------------------  10.6/10.7 MB 9.4 MB/s eta 0:00:01\n",
      "     ---------------------------------------  10.6/10.7 MB 9.4 MB/s eta 0:00:01\n",
      "     ---------------------------------------- 10.7/10.7 MB 8.7 MB/s eta 0:00:00\n",
      "Requirement already satisfied: python-dateutil>=2.8.2 in c:\\users\\lauis\\appdata\\roaming\\python\\python310\\site-packages (from pandas) (2.8.2)\n",
      "Collecting pytz>=2020.1 (from pandas)\n",
      "  Downloading pytz-2023.3-py2.py3-none-any.whl (502 kB)\n",
      "                                              0.0/502.3 kB ? eta -:--:--\n",
      "     -----------------                      225.3/502.3 kB 6.9 MB/s eta 0:00:01\n",
      "     -----------------                      225.3/502.3 kB 6.9 MB/s eta 0:00:01\n",
      "     -----------------                      225.3/502.3 kB 6.9 MB/s eta 0:00:01\n",
      "     -------------------------------------- 502.3/502.3 kB 2.9 MB/s eta 0:00:00\n",
      "Collecting tzdata>=2022.1 (from pandas)\n",
      "  Downloading tzdata-2023.3-py2.py3-none-any.whl (341 kB)\n",
      "                                              0.0/341.8 kB ? eta -:--:--\n",
      "     -                                        10.2/341.8 kB ? eta -:--:--\n",
      "     -                                        10.2/341.8 kB ? eta -:--:--\n",
      "     -------------------------------------- 341.8/341.8 kB 2.4 MB/s eta 0:00:00\n",
      "Requirement already satisfied: numpy>=1.21.0 in c:\\users\\lauis\\appdata\\local\\programs\\python\\python310\\lib\\site-packages (from pandas) (1.24.2)\n",
      "Requirement already satisfied: six>=1.5 in c:\\users\\lauis\\appdata\\local\\programs\\python\\python310\\lib\\site-packages (from python-dateutil>=2.8.2->pandas) (1.16.0)\n",
      "Installing collected packages: pytz, tzdata, pandas\n",
      "Successfully installed pandas-2.0.1 pytz-2023.3 tzdata-2023.3\n"
     ]
    },
    {
     "name": "stderr",
     "output_type": "stream",
     "text": [
      "\n",
      "[notice] A new release of pip is available: 23.1 -> 23.1.2\n",
      "[notice] To update, run: python.exe -m pip install --upgrade pip\n"
     ]
    }
   ],
   "source": [
    "!pip install pandas"
   ]
  },
  {
   "attachments": {},
   "cell_type": "markdown",
   "id": "541107da",
   "metadata": {},
   "source": [
    "# Generate missing data"
   ]
  },
  {
   "cell_type": "code",
   "execution_count": 10,
   "id": "d480588d",
   "metadata": {},
   "outputs": [],
   "source": [
    "from faker import Faker\n",
    "import numpy as np \n",
    "import pandas as pd\n",
    "import random\n",
    "\n",
    "fake = Faker()\n",
    "\n",
    "n=1000\n",
    "missingTables=[['chairs',['id','name']], ['editors',['id','name']],['reviewers',['id','name']],['reviews',['id','text','list']]]\n",
    "\n",
    "for i in missingTables:\n",
    "    data=[]\n",
    "    for j in range(n):\n",
    "        row=[j]\n",
    "        for k in i[1]:\n",
    "            if k == 'name':\n",
    "                row.append(fake.name())\n",
    "            if k == 'text':\n",
    "                row.append(fake.text())\n",
    "            if k == 'list':\n",
    "                foo = ['approved','rejected']\n",
    "                row.append(random.choice(foo))\n",
    "        data.append(row)\n",
    "    data_df = pd.DataFrame(data, columns=i[1])\n",
    "    data_df.to_csv('data_'+i[0]+'.csv', index=False)\n",
    "    "
   ]
  }
 ],
 "metadata": {
  "kernelspec": {
   "display_name": "Python 3",
   "language": "python",
   "name": "python3"
  },
  "language_info": {
   "codemirror_mode": {
    "name": "ipython",
    "version": 3
   },
   "file_extension": ".py",
   "mimetype": "text/x-python",
   "name": "python",
   "nbconvert_exporter": "python",
   "pygments_lexer": "ipython3",
   "version": "3.10.3"
  }
 },
 "nbformat": 4,
 "nbformat_minor": 5
}
